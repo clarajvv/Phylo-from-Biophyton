{
 "cells": [
  {
   "cell_type": "markdown",
   "metadata": {},
   "source": [
    "# BIOPYTHON "
   ]
  },
  {
   "cell_type": "markdown",
   "metadata": {},
   "source": [
    "## Introducción"
   ]
  },
  {
   "cell_type": "markdown",
   "metadata": {},
   "source": [
    "Our objective in this activity is to create phylogenetic trees and to make different queries about them, such as knowing which is the common ancestor. ç poner después más cosas cuando clara haya hecho su parte.\n",
    "\n",
    "To do this, first of all, we will look for examples of proteins that are relevant because of their functions or applications and carry out the study on them. When we have their sequences, we will align them to find out the degree of similarity and, finally, we will create the phylogenetic trees on which we will work. \n",
    "\n",
    "Using these phylogenetic trees, we'll use some of the functions included in the 'Phylo' section in BioPython to showcase the way they work and their many uses."
   ]
  },
  {
   "cell_type": "raw",
   "metadata": {},
   "source": [
    "#### Protein search and reading"
   ]
  },
  {
   "cell_type": "markdown",
   "metadata": {},
   "source": [
    "On the search for proteins, we considered it appropriate to select two different ones: \n",
    "\n",
    "    - Beta casein: it is a major protein component of milk and, in conjunction with the other caseins, it is assembled into micelles. The casein micelles determine many of the physical characteristics of milk, which are important for stability during storage and for milk-processing properties. \n",
    "    - Pyrimidine/purine Nucleoside Phosphorylase: it is a protein that catalyzes the phosphorolysis of diverse nucleosides, yielding D-ribose 1-phosphate and the respective free bases. It can use uridine, adenosine, guanosine, cytidine, thymidine, inosine and xanthosine as substrates. It also catalyzes the reverse reactions.\n",
    "    \n",
    "For both cases, we have selected 10 organisms which have that protein. In the case of beta casein, these are organisms such as humans, gorillas and horses, among others; while in the second case, we have selected different species of bacteria. \n"
   ]
  },
  {
   "cell_type": "code",
   "execution_count": 2,
   "metadata": {},
   "outputs": [],
   "source": [
    "def read_multiFasta(protein_file):\n",
    "    fastas = {}\n",
    "   \n",
    "    file = open(protein_file)\n",
    "   \n",
    "    for line in file:\n",
    "        \n",
    "        if (line[0]==\">\"):\n",
    "            head=line[1:]\n",
    "            seq=\"\"\n",
    "            \n",
    "        else:\n",
    "            line=line.rstrip(\"\\r\")\n",
    "            seq+=line.rstrip(\"\\n\")\n",
    "            fastas[head]=seq\n",
    "        \n",
    "    return fastas"
   ]
  },
  {
   "cell_type": "code",
   "execution_count": 3,
   "metadata": {},
   "outputs": [
    {
     "data": {
      "text/plain": [
       "{'sp|P05814|CASB_HUMAN Beta-casein OS=Homo sapiens OX=9606 GN=CSN2 PE=1 SV=4\\n': 'MKVLILACLVALALARETIESLSSSEESITEYKQKVEKVKHEDQQQGEDEHQDKIYPSFQPQPLIYPFVEPIPYGFLPQNILPLAQPAVVLPVPQPEIMEVPKAKDTVYTKGRVMPVLKSPTIPFFDPQIPKLTDLENLHLPLPLLQPLMQQVPQPIPQTLALPPQPLWSVPQPKVLPIPQQVVPYPQRAVPVQALLLNQELLLNPTHQIYPVTQPLAPVHNPISV',\n",
       " 'tr|G3RZH2|G3RZH2_GORGO Beta-casein OS=Gorilla gorilla gorilla OX=9595 PE=3 SV=1\\n': 'MKVLILACLVALALARETVESLSSSEESITEYKQKVEKVKHEDQQQGEDEHQDKIYHSFQPQPLIYPFVEPIPYGFLPQNILPLAQPAVMLPVPQPEIMEVPKAKDTVYTKGRVMPVLKSPTMPFFDPQIPKLTDLENLHLPLPLLQPLMQQVPQPIPQTLALPSQPLWSVPQPKVLPIPQQVVPYPQRAVPVQALLLNQELLLNPTHQIYPVTQPLAPVHNPISV',\n",
       " 'tr|H2QPK9|H2QPK9_PANTR Beta-casein OS=Pan troglodytes OX=9598 GN=CSN2 PE=3 SV=1\\n': 'MKVLILACLVALALARETVESLSSSEESITEYKQKVEKVKHEDQQQGEDEHQDKIYPSFQPQPLIYPFVEPIPYGFLPQNILPLAQPAVVLPVPQPEIMEVPKAKDTVYTKGRVMPVLKSPTMPFFDPQIPKLTDLENLHLPLPLLQPLMQQVPQPIPQTLALPPQSLWSVPQPKVLPIPQQVPYPQRAVPVQALLLNQELLLNPTHQIYPVTQPLAPVHNPISV',\n",
       " 'tr|A0A2R8Z5M4|A0A2R8Z5M4_PANPA Beta-casein OS=Pan paniscus OX=9597 GN=CSN2 PE=3 SV=1\\n': 'MKVLILACLVALALARETVESLSSSEESITEYKQKVEKVKHEDQQQGEDEHQDKIYPSFQPQPLIYPFVEPIPYGFLPQNILPLAQPAVVLPVPQPEIMEVPKAKDTVYTKGRVMPVLKSPTMPFFDPQIPKLTDLENLHLPLPLLQPLMQQVPQSIPQTLALPPQPLWSVPQPQILPIPQQVPYPQRAVPVQALLLNQELLLNPTHQIYPVTQPLAPVHNPISV',\n",
       " 'tr|G1R7Y4|G1R7Y4_NOMLE Beta-casein OS=Nomascus leucogenys OX=61853 GN=CSN2 PE=3 SV=2\\n': 'MKVLILACLVALALARETVESLSSSEETITQYKQEVEKVKHEDQQQGEDEHQDKIYPSFQPQPLIYPFVEPIPYGFLPQNILPLAQPAVVLPVPQPEIMEVPKAKDTIYTNGRVMPILKSLKMPFFDPQIPKLTDLENLHLPLPLLQPLMHQVPQPIPQTLALPPQPLWSVPQPKVLPIPQQVVPYPQRAVPVQALLLNQELLLNPTHQIYPVTQPLAPVHNPISV',\n",
       " 'tr|H2PDH0|H2PDH0_PONAB Beta-casein OS=Pongo abelii OX=9601 GN=CSN2 PE=3 SV=1\\n': 'MKVLILACLVALAFARETVESLSSSEETITQYEQKVEKVKHEDQQQGEDEHQNKIYPSFQPQPLIYPFVETIPYSFLPQNILPLAQPAVVLPVPQPETMEVPKAKDTVYTNGRVMPVLKSPKMPFFDPQMPKLTDLENLHLPLPLLQPLMHQVPQPIPQTLALPRQPLWSVPQPKVLPIPQQVVPYPQRAVPVQALLLNQELLLNPTHQIYPVTQPLAPVHNPINV',\n",
       " 'tr|A0A0D9QY03|A0A0D9QY03_CHLSB Beta-casein OS=Chlorocebus sabaeus OX=60711 GN=CSN2 PE=3 SV=1\\n': 'MKVIILACLVALALARETVENLSSSEESITQYKQTVEKVKHEDQQQREDERQDKIDPSFQPQPLIYPFVEPIPYGFLPQNILPLAQPAVVLPVPQPEIMEVPKAKDTIYTKGRVMPVHKSPTMPFFEPQIPKLTDLENLHLPLPLLQPLMHQVPQPIPQTLALPPQPLWSVPQPKVLPIPQQVVPYPQRAVPVQALLLSQELLLDPTRQIYPVTQPLAPVHNPIRV',\n",
       " 'tr|A0A2K5U2F4|A0A2K5U2F4_MACFA Beta-casein OS=Macaca fascicularis OX=9541 GN=CSN2 PE=3 SV=1\\n': 'MKVIILACLVALALARETVENLSSSEESITQYKQTVEKVKHEDQQQREDERQDKIDPSFQPQPLIYPFVEPIPYGFLPQNILPLAQPAVVLPVPQPEIMEVPKAKDTIYTKGRVMPIHKSPMMPFFEPQIPKLTDLENLHLPLPLLQPLMHQVPQPIPQTLALPPQPLWSVPQPKVLPIPQQVVPYPQRAVPVQALLLSQELLLDPTRQIYPVTQPLAPVHNPIRV',\n",
       " 'sp|Q9GKK3|CASB_HORSE Beta-casein OS=Equus caballus OX=9796 GN=CSN2 PE=1 SV=3\\n': 'MKILILACLVALALAREKEELNVSSETVESLSSNEPDSSSEESITHINKEKLQKFKHEGQQQREVERQDKISRFVQPQPVVYPYAEPVPYAVVPQSILPLAQPPILPFLQPEIMEVSQAKETILPKRKVMPFLKSPIVPFSERQILNPTNGENLRLPVHLIQPFMHQVPQSLLQTLMLPSQPVLSPPQSKVAPFPQPVVPYPQRDTPVQAFLLYQDPRLGPTGELDPATQPIVAVHNPVIV',\n",
       " 'sp|Q9TSI0|CASB_BUBBU Beta-casein OS=Bubalus bubalis OX=89462 GN=CSN2 PE=2 SV=1\\n': 'MKVLILACLVALALARELEELNVPGEIVESLSSSEESITHINKKIEKFQSEEQQQMEDELQDKIHPFAQTQSLVYPFPGPIPKSLPQNIPPLTQTPVVVPPFLQPEIMGVSKVKEAMAPKHKEMPFPKYPVEPFTESQSLTLTDVENLHLPLPLLQSWMHQPPQPLPPTVMFPPQSVLSLSQSKVLPVPQKAVPYPQRDMPIQAFLLYQEPVLGPVRGPFPIIV'}"
      ]
     },
     "execution_count": 3,
     "metadata": {},
     "output_type": "execute_result"
    }
   ],
   "source": [
    "read_multiFasta(\"BetaCasein.txt\")"
   ]
  },
  {
   "cell_type": "code",
   "execution_count": 4,
   "metadata": {},
   "outputs": [
    {
     "data": {
      "text/plain": [
       "{'sp|P0C037|PPNP_ECOLI Pyrimidine/purine nucleoside phosphorylase OS=Escherichia coli (strain K12) OX=83333 GN=ppnP PE=1 SV=1\\n': 'MLQSNEYFSGKVKSIGFSSSSTGRASVGVMVEGEYTFSTAEPEEMTVISGALNVLLPDATDWQVYEAGSVFNVPGHSEFHLQVAEPTSYLCRYL',\n",
       " 'sp|Q9KKY0|PPNP_VIBCH Pyrimidine/purine nucleoside phosphorylase OS=Vibrio cholerae serotype O1 (strain ATCC 39315 / El Tor Inaba N16961) OX=243277 GN=ppnP PE=3 SV=2\\n': 'MIKENVYFDGNVKSLGFSQQDGESTVGVMAPGQYTFGTGAPERMTVVKGALTIKRVTDADWVTFTAGEAFEVAGNSSFDLQVEVATAYLCEFLPA',\n",
       " 'sp|Q8XWC2|PPNP_RALSO Pyrimidine/purine nucleoside phosphorylase OS=Ralstonia solanacearum (strain GMI1000) OX=267608 GN=ppnP PE=3 SV=2\\n': 'MTTETIDGVRLTTKANVYFDGKCVSHSFALPDGTKKSVGVVLPATLTFGTAAAEIMECVGGSCEYRLDGSDEWKQSGPGERFQVPANSKFDIRVTEAYHYICHYA',\n",
       " 'sp|A0KK62|PPNP_AERHH Pyrimidine/purine nucleoside phosphorylase OS=Aeromonas hydrophila subsp. hydrophila (strain ATCC 7966 / DSM 30187 / JCM 1027 / KCTC 2358 / NCIMB 9240) OX=380703 GN=ppnP PE=3 SV=2\\n': 'MLKVNEYFDGNVKSIGFEQKGDKATVGVMEAGHYQFNTAAPERMTVVKGALTIQLADEDEWHTYEQGQSFDVAGHSSFKLEVKTPTAYLCEFLD',\n",
       " 'sp|Q2SC73|PPNP_HAHCH Pyrimidine/purine nucleoside phosphorylase OS=Hahella chejuensis (strain KCTC 2396) OX=349521 GN=ppnP PE=3 SV=2\\n': 'MLKVNEYFNGRVKSIAFQTATLPATVGVMIPGDYEFSTSQHETMTVVSGALSVKLPESESWTRFNAGDRFEIPANATFNLKVAVDTAYLCTYG',\n",
       " 'sp|Q9I3E3|PPNP_PSEAE Pyrimidine/purine nucleoside phosphorylase OS=Pseudomonas aeruginosa (strain ATCC 15692 / DSM 22644 / CIP 104116 / JCM 14847 / LMG 12228 / 1C / PRS 101 / PAO1) OX=208964 GN=ppnP PE=3 SV=1\\n': 'MFKVNEYFDGTVKSIAFDMTAGPATIGVMAAGEYEFGTSQLEIMHVVAGALTVKLPGSDEWQEYASGSQFTVPANSKFQLKVAQDTAYLCEYR',\n",
       " 'sp|A8AK73|PPNP_CITK8 Pyrimidine/purine nucleoside phosphorylase OS=Citrobacter koseri (strain ATCC BAA-895 / CDC 4225-83 / SGSC4696) OX=290338 GN=ppnP PE=3 SV=2\\n': 'MLQSNEYFSGKVKSIGFTSSSTGRASVGVMAEGEYAFSTAAPEEMTVVSGALNVLLPGETEWKVYAAGEVFNVPGQSEFHLQVAEPTSYLCRYL',\n",
       " 'sp|Q6LLX8|PPNP_PHOPR Pyrimidine/purine nucleoside phosphorylase OS=Photobacterium profundum (strain SS9) OX=298386 GN=ppnP PE=3 SV=2\\n': 'MLNVNEYFEGQVKSIGFEAQGDRTSVGVMAAGEYTFGTAAPERMTVVKGSMDVKRPGHVEWETFNAGDDFEVPGDSSFEVKITSSTAYLCDYL',\n",
       " 'sp|Q0K784|PPNP_CUPNH Pyrimidine/purine nucleoside phosphorylase OS=Cupriavidus necator (strain ATCC 17699 / H16 / DSM 428 / Stanier 337) OX=381666 GN=ppnP PE=3 SV=2\\n': 'MEVSQFDNVSVVKKANLYFDGKCVSHTVLFPDGTRKTLGVIFPAALTFNTGAPEIMEINAGTCRVRLAGSEDWQTYGAGQQFSVPGNSSFDIEVQETLDYVCHFA',\n",
       " 'sp|Q8E927|PPNP_SHEON Pyrimidine/purine nucleoside phosphorylase OS=Shewanella oneidensis (strain MR-1) OX=211586 GN=ppnP PE=3 SV=1\\n': 'MELIEQVAVAKKANIYFEGKVASRSVFFSDGSKQTLGVVLPGEYEFSTSQGEIMHVTSGSFEVLLPNSSTWQAFSEGSQFELAANVSFKIRNNAIAEYCCRYL'}"
      ]
     },
     "execution_count": 4,
     "metadata": {},
     "output_type": "execute_result"
    }
   ],
   "source": [
    "read_multiFasta(\"PyrimidinePurineNucleosidePhosphorylase.txt\")"
   ]
  }
 ],
 "metadata": {
  "kernelspec": {
   "display_name": "Python 3",
   "language": "python",
   "name": "python3"
  },
  "language_info": {
   "codemirror_mode": {
    "name": "ipython",
    "version": 3
   },
   "file_extension": ".py",
   "mimetype": "text/x-python",
   "name": "python",
   "nbconvert_exporter": "python",
   "pygments_lexer": "ipython3",
   "version": "3.7.6"
  }
 },
 "nbformat": 4,
 "nbformat_minor": 4
}
