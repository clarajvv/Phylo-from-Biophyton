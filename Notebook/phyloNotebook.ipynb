{
 "cells": [
  {
   "cell_type": "markdown",
   "metadata": {},
   "source": [
    " # BIOPYTHON\n",
    " --------------------"
   ]
  },
  {
   "cell_type": "markdown",
   "metadata": {},
   "source": [
    "### Introducción"
   ]
  },
  {
   "cell_type": "markdown",
   "metadata": {},
   "source": [
    "Our objective in this activity is to create phylogenetic trees and to make different queries about them, such as knowing which is the common ancestor. ç poner después más cosas cuando clara haya hecho su parte.\n",
    "\n",
    "To do this, first of all, we will look for examples of proteins that are relevant because of their functions or applications and carry out the study on them. When we have their sequences, we will align them to find out the degree of similarity and, finally, we will create the phylogenetic trees on which we will work. \n",
    "\n",
    "Using these phylogenetic trees, we'll use some of the functions included in the 'Phylo' section in BioPython to showcase the way they work and their many uses."
   ]
  },
  {
   "cell_type": "markdown",
   "metadata": {},
   "source": [
    "### Protein search and reading"
   ]
  },
  {
   "cell_type": "markdown",
   "metadata": {},
   "source": [
    "On the search for proteins, we considered it appropriate to select two different ones: \n",
    "\n",
    "    - Beta casein: it is a major protein component of milk and, in conjunction with the other caseins, it is assembled into micelles. The casein micelles determine many of the physical characteristics of milk, which are important for stability during storage and for milk-processing properties. \n",
    "    - Pyrimidine/purine Nucleoside Phosphorylase: it is a protein that catalyzes the phosphorolysis of diverse nucleosides, yielding D-ribose 1-phosphate and the respective free bases. It can use uridine, adenosine, guanosine, cytidine, thymidine, inosine and xanthosine as substrates. It also catalyzes the reverse reactions.\n",
    "    \n",
    "For both cases, we have selected 10 organisms which have that protein. In the case of beta casein, these are organisms such as humans, gorillas and horses, among others; while in the second case, we have selected different species of bacteria. \n"
   ]
  },
  {
   "cell_type": "code",
   "execution_count": 2,
   "metadata": {},
   "outputs": [],
   "source": [
    "def read_multiFasta(protein_file):\n",
    "    fastas = {}\n",
    "   \n",
    "    file = open(protein_file)\n",
    "   \n",
    "    for line in file:\n",
    "        \n",
    "        if (line[0]==\">\"):\n",
    "            head=line[1:]\n",
    "            seq=\"\"\n",
    "            \n",
    "        else:\n",
    "            line=line.rstrip(\"\\r\")\n",
    "            seq+=line.rstrip(\"\\n\")\n",
    "            fastas[head]=seq\n",
    "        \n",
    "    return fastas"
   ]
  },
  {
   "cell_type": "code",
   "execution_count": 3,
   "metadata": {},
   "outputs": [
    {
     "data": {
      "text/plain": [
       "{'sp|P05814|CASB_HUMAN Beta-casein OS=Homo sapiens OX=9606 GN=CSN2 PE=1 SV=4\\n': 'MKVLILACLVALALARETIESLSSSEESITEYKQKVEKVKHEDQQQGEDEHQDKIYPSFQPQPLIYPFVEPIPYGFLPQNILPLAQPAVVLPVPQPEIMEVPKAKDTVYTKGRVMPVLKSPTIPFFDPQIPKLTDLENLHLPLPLLQPLMQQVPQPIPQTLALPPQPLWSVPQPKVLPIPQQVVPYPQRAVPVQALLLNQELLLNPTHQIYPVTQPLAPVHNPISV',\n",
       " 'tr|G3RZH2|G3RZH2_GORGO Beta-casein OS=Gorilla gorilla gorilla OX=9595 PE=3 SV=1\\n': 'MKVLILACLVALALARETVESLSSSEESITEYKQKVEKVKHEDQQQGEDEHQDKIYHSFQPQPLIYPFVEPIPYGFLPQNILPLAQPAVMLPVPQPEIMEVPKAKDTVYTKGRVMPVLKSPTMPFFDPQIPKLTDLENLHLPLPLLQPLMQQVPQPIPQTLALPSQPLWSVPQPKVLPIPQQVVPYPQRAVPVQALLLNQELLLNPTHQIYPVTQPLAPVHNPISV',\n",
       " 'tr|H2QPK9|H2QPK9_PANTR Beta-casein OS=Pan troglodytes OX=9598 GN=CSN2 PE=3 SV=1\\n': 'MKVLILACLVALALARETVESLSSSEESITEYKQKVEKVKHEDQQQGEDEHQDKIYPSFQPQPLIYPFVEPIPYGFLPQNILPLAQPAVVLPVPQPEIMEVPKAKDTVYTKGRVMPVLKSPTMPFFDPQIPKLTDLENLHLPLPLLQPLMQQVPQPIPQTLALPPQSLWSVPQPKVLPIPQQVPYPQRAVPVQALLLNQELLLNPTHQIYPVTQPLAPVHNPISV',\n",
       " 'tr|A0A2R8Z5M4|A0A2R8Z5M4_PANPA Beta-casein OS=Pan paniscus OX=9597 GN=CSN2 PE=3 SV=1\\n': 'MKVLILACLVALALARETVESLSSSEESITEYKQKVEKVKHEDQQQGEDEHQDKIYPSFQPQPLIYPFVEPIPYGFLPQNILPLAQPAVVLPVPQPEIMEVPKAKDTVYTKGRVMPVLKSPTMPFFDPQIPKLTDLENLHLPLPLLQPLMQQVPQSIPQTLALPPQPLWSVPQPQILPIPQQVPYPQRAVPVQALLLNQELLLNPTHQIYPVTQPLAPVHNPISV',\n",
       " 'tr|G1R7Y4|G1R7Y4_NOMLE Beta-casein OS=Nomascus leucogenys OX=61853 GN=CSN2 PE=3 SV=2\\n': 'MKVLILACLVALALARETVESLSSSEETITQYKQEVEKVKHEDQQQGEDEHQDKIYPSFQPQPLIYPFVEPIPYGFLPQNILPLAQPAVVLPVPQPEIMEVPKAKDTIYTNGRVMPILKSLKMPFFDPQIPKLTDLENLHLPLPLLQPLMHQVPQPIPQTLALPPQPLWSVPQPKVLPIPQQVVPYPQRAVPVQALLLNQELLLNPTHQIYPVTQPLAPVHNPISV',\n",
       " 'tr|H2PDH0|H2PDH0_PONAB Beta-casein OS=Pongo abelii OX=9601 GN=CSN2 PE=3 SV=1\\n': 'MKVLILACLVALAFARETVESLSSSEETITQYEQKVEKVKHEDQQQGEDEHQNKIYPSFQPQPLIYPFVETIPYSFLPQNILPLAQPAVVLPVPQPETMEVPKAKDTVYTNGRVMPVLKSPKMPFFDPQMPKLTDLENLHLPLPLLQPLMHQVPQPIPQTLALPRQPLWSVPQPKVLPIPQQVVPYPQRAVPVQALLLNQELLLNPTHQIYPVTQPLAPVHNPINV',\n",
       " 'tr|A0A0D9QY03|A0A0D9QY03_CHLSB Beta-casein OS=Chlorocebus sabaeus OX=60711 GN=CSN2 PE=3 SV=1\\n': 'MKVIILACLVALALARETVENLSSSEESITQYKQTVEKVKHEDQQQREDERQDKIDPSFQPQPLIYPFVEPIPYGFLPQNILPLAQPAVVLPVPQPEIMEVPKAKDTIYTKGRVMPVHKSPTMPFFEPQIPKLTDLENLHLPLPLLQPLMHQVPQPIPQTLALPPQPLWSVPQPKVLPIPQQVVPYPQRAVPVQALLLSQELLLDPTRQIYPVTQPLAPVHNPIRV',\n",
       " 'tr|A0A2K5U2F4|A0A2K5U2F4_MACFA Beta-casein OS=Macaca fascicularis OX=9541 GN=CSN2 PE=3 SV=1\\n': 'MKVIILACLVALALARETVENLSSSEESITQYKQTVEKVKHEDQQQREDERQDKIDPSFQPQPLIYPFVEPIPYGFLPQNILPLAQPAVVLPVPQPEIMEVPKAKDTIYTKGRVMPIHKSPMMPFFEPQIPKLTDLENLHLPLPLLQPLMHQVPQPIPQTLALPPQPLWSVPQPKVLPIPQQVVPYPQRAVPVQALLLSQELLLDPTRQIYPVTQPLAPVHNPIRV',\n",
       " 'sp|Q9GKK3|CASB_HORSE Beta-casein OS=Equus caballus OX=9796 GN=CSN2 PE=1 SV=3\\n': 'MKILILACLVALALAREKEELNVSSETVESLSSNEPDSSSEESITHINKEKLQKFKHEGQQQREVERQDKISRFVQPQPVVYPYAEPVPYAVVPQSILPLAQPPILPFLQPEIMEVSQAKETILPKRKVMPFLKSPIVPFSERQILNPTNGENLRLPVHLIQPFMHQVPQSLLQTLMLPSQPVLSPPQSKVAPFPQPVVPYPQRDTPVQAFLLYQDPRLGPTGELDPATQPIVAVHNPVIV',\n",
       " 'sp|Q9TSI0|CASB_BUBBU Beta-casein OS=Bubalus bubalis OX=89462 GN=CSN2 PE=2 SV=1\\n': 'MKVLILACLVALALARELEELNVPGEIVESLSSSEESITHINKKIEKFQSEEQQQMEDELQDKIHPFAQTQSLVYPFPGPIPKSLPQNIPPLTQTPVVVPPFLQPEIMGVSKVKEAMAPKHKEMPFPKYPVEPFTESQSLTLTDVENLHLPLPLLQSWMHQPPQPLPPTVMFPPQSVLSLSQSKVLPVPQKAVPYPQRDMPIQAFLLYQEPVLGPVRGPFPIIV'}"
      ]
     },
     "execution_count": 3,
     "metadata": {},
     "output_type": "execute_result"
    }
   ],
   "source": [
    "read_multiFasta(\"BetaCasein.txt\")"
   ]
  },
  {
   "cell_type": "code",
   "execution_count": 7,
   "metadata": {
    "scrolled": true
   },
   "outputs": [
    {
     "ename": "NameError",
     "evalue": "name 'read_multiFasta' is not defined",
     "output_type": "error",
     "traceback": [
      "\u001b[1;31m---------------------------------------------------------------------------\u001b[0m",
      "\u001b[1;31mNameError\u001b[0m                                 Traceback (most recent call last)",
      "\u001b[1;32m<ipython-input-7-a9e331d348fd>\u001b[0m in \u001b[0;36m<module>\u001b[1;34m\u001b[0m\n\u001b[1;32m----> 1\u001b[1;33m \u001b[0mread_multiFasta\u001b[0m\u001b[1;33m(\u001b[0m\u001b[1;34m\"PyrimidinePurineNucleosidePhosphorylase.txt\"\u001b[0m\u001b[1;33m)\u001b[0m\u001b[1;33m\u001b[0m\u001b[1;33m\u001b[0m\u001b[0m\n\u001b[0m",
      "\u001b[1;31mNameError\u001b[0m: name 'read_multiFasta' is not defined"
     ]
    }
   ],
   "source": [
    "read_multiFasta(\"PyrimidinePurineNucleosidePhosphorylase.txt\")"
   ]
  },
  {
   "cell_type": "markdown",
   "metadata": {},
   "source": [
    "\n",
    "\n",
    "\n"
   ]
  },
  {
   "cell_type": "markdown",
   "metadata": {},
   "source": [
    "### ClustalW2\n",
    "\n",
    "In order to create the phylogenetic trees, we are going to use ClustalW2. ClustalW2 is the command line interface of Clustal, a computer program for performing multiple sequence alignments and creating phylogenetic trees.\n",
    "\n",
    "In our project, we will implement ClustalWrapper, a class which will use biopython functions of Aligment tools section, and whose purpose is to be an adapter for ClustalW2. \n",
    "\n",
    "#### Download and install of ClustalW2\n",
    "\n",
    "First, we will show the steps for downloading ClustalW2:\n",
    "\n",
    "1. Enter in Clustal W official website in: <a href=\"http://www.clustal.org/clustal2/\">\"http://www.clustal.org/clustal2/\">  \n",
    "   "
   ]
  },
  {
   "cell_type": "markdown",
   "metadata": {},
   "source": [
    "Then download cluatalw suited for your computer."
   ]
  },
  {
   "cell_type": "markdown",
   "metadata": {},
   "source": [
    "<img src=\"DescargarEjecutable.png\">"
   ]
  },
  {
   "cell_type": "markdown",
   "metadata": {},
   "source": [
    "2. Use the setup file to install ClustalW2. Pay attention to the installation location.    \n",
    "    "
   ]
  },
  {
   "cell_type": "markdown",
   "metadata": {},
   "source": [
    "<img src= \"InstalaciónClustalW2.jpg\">"
   ]
  },
  {
   "cell_type": "markdown",
   "metadata": {},
   "source": [
    "3. Now, we will train the ClustarW2 application with 'opuntia.fasta', a fasta file with some DNA sequences."
   ]
  },
  {
   "cell_type": "markdown",
   "metadata": {},
   "source": [
    "<img src= \"CargaOpuntiaFileClustalW2.png\">"
   ]
  },
  {
   "cell_type": "markdown",
   "metadata": {},
   "source": [
    "After choosing 'Do complete multiple alignment now Slow/Accurate', the application generates two file: opuntia.aln, with the alignment, and opuntia.dnd, with the phylogenetic tree."
   ]
  },
  {
   "cell_type": "markdown",
   "metadata": {},
   "source": [
    "#### Adapter class\n",
    "\n",
    "We want to use ClustalW2 from our python project for creating phylogenetic trees. For this purpose, we use biopython functions in the class ClusterWrapper. \n",
    "\n",
    "When we initialize ClustaWrapper, the only input parameter is the path, where the file clustal.exe is. We do it because we use *os* package instead of modifying the path. Then, the class has the function *generate_aligment_tree*, which needs the fasta file with the sequence, and uses ClustalW2 to create the alignment and the phylogenetic tree. Subsequently, we will use this tree to show some of the functions included in the 'Phylo' section in BioPython.\n"
   ]
  },
  {
   "cell_type": "code",
   "execution_count": 3,
   "metadata": {},
   "outputs": [],
   "source": [
    "import os\n",
    "from Bio.Align.Applications import ClustalwCommandline\n",
    "\n",
    "\n",
    "class ClustalWrapper:\n",
    "    def __init__(self, clustal_exe_path):\n",
    "        self.clustalw_exe = clustal_exe_path\n",
    "\n",
    "    def generate_alignment_tree(self, fasta_file):\n",
    "        try:\n",
    "            clustalw_cline = ClustalwCommandline(self.clustalw_exe, infile=fasta_file, seqnos=\"ON\")\n",
    "            assert os.path.isfile(self.clustalw_exe), \"Clustal W executable missing\"\n",
    "            stdout, stderr = clustalw_cline()\n",
    "        except:\n",
    "            raise Exception(\"ClustalW2 did not work\")\n"
   ]
  }
 ],
 "metadata": {
  "kernelspec": {
   "display_name": "Python 3",
   "language": "python",
   "name": "python3"
  },
  "language_info": {
   "codemirror_mode": {
    "name": "ipython",
    "version": 3
   },
   "file_extension": ".py",
   "mimetype": "text/x-python",
   "name": "python",
   "nbconvert_exporter": "python",
   "pygments_lexer": "ipython3",
   "version": "3.7.6"
  }
 },
 "nbformat": 4,
 "nbformat_minor": 4
}
