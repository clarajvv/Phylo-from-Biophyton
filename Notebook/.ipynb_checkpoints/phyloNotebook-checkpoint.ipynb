{
 "cells": [
  {
   "cell_type": "markdown",
   "metadata": {},
   "source": [
    " # BIOPYTHON\n",
    " --------------------"
   ]
  },
  {
   "cell_type": "markdown",
   "metadata": {},
   "source": [
    "### Introducción"
   ]
  },
  {
   "cell_type": "markdown",
   "metadata": {},
   "source": [
    "Our objective in this activity is to create phylogenetic trees and to make different queries about them, such as knowing which is the common ancestor. ç poner después más cosas cuando clara haya hecho su parte.\n",
    "\n",
    "To do this, first of all, we will look for examples of proteins that are relevant because of their functions or applications and carry out the study on them. When we have their sequences, we will align them to find out the degree of similarity and, finally, we will create the phylogenetic trees on which we will work. \n",
    "\n",
    "Using these phylogenetic trees, we'll use some of the functions included in the 'Phylo' section in BioPython to showcase the way they work and their many uses."
   ]
  },
  {
   "cell_type": "markdown",
   "metadata": {},
   "source": [
    "### Protein search and reading"
   ]
  },
  {
   "cell_type": "markdown",
   "metadata": {},
   "source": [
    "On the search for proteins, we considered it appropriate to select two different ones: \n",
    "\n",
    "    - Beta casein: it is a major protein component of milk and, in conjunction with the other caseins, it is assembled into micelles. The casein micelles determine many of the physical characteristics of milk, which are important for stability during storage and for milk-processing properties. \n",
    "    - Pyrimidine/purine Nucleoside Phosphorylase: it is a protein that catalyzes the phosphorolysis of diverse nucleosides, yielding D-ribose 1-phosphate and the respective free bases. It can use uridine, adenosine, guanosine, cytidine, thymidine, inosine and xanthosine as substrates. It also catalyzes the reverse reactions.\n",
    "    \n",
    "For both cases, we have selected 10 organisms which have that protein. In the case of beta casein, these are organisms such as humans, gorillas and horses, among others; while in the second case, we have selected different species of bacteria. \n"
   ]
  },
  {
   "cell_type": "code",
   "execution_count": 2,
   "metadata": {},
   "outputs": [],
   "source": [
    "def read_multiFasta(protein_file):\n",
    "    fastas = {}\n",
    "   \n",
    "    file = open(protein_file)\n",
    "   \n",
    "    for line in file:\n",
    "        \n",
    "        if (line[0]==\">\"):\n",
    "            head=line[1:]\n",
    "            seq=\"\"\n",
    "            \n",
    "        else:\n",
    "            line=line.rstrip(\"\\r\")\n",
    "            seq+=line.rstrip(\"\\n\")\n",
    "            fastas[head]=seq\n",
    "        \n",
    "    return fastas"
   ]
  },
  {
   "cell_type": "code",
   "execution_count": 3,
   "metadata": {},
   "outputs": [
    {
     "ename": "FileNotFoundError",
     "evalue": "[Errno 2] No such file or directory: 'BetaCasein.txt'",
     "output_type": "error",
     "traceback": [
      "\u001b[1;31m---------------------------------------------------------------------------\u001b[0m",
      "\u001b[1;31mFileNotFoundError\u001b[0m                         Traceback (most recent call last)",
      "\u001b[1;32m<ipython-input-3-2825e14d39e7>\u001b[0m in \u001b[0;36m<module>\u001b[1;34m\u001b[0m\n\u001b[1;32m----> 1\u001b[1;33m \u001b[0mread_multiFasta\u001b[0m\u001b[1;33m(\u001b[0m\u001b[1;34m\"BetaCasein.txt\"\u001b[0m\u001b[1;33m)\u001b[0m\u001b[1;33m\u001b[0m\u001b[1;33m\u001b[0m\u001b[0m\n\u001b[0m",
      "\u001b[1;32m<ipython-input-2-3a90568a5faa>\u001b[0m in \u001b[0;36mread_multiFasta\u001b[1;34m(protein_file)\u001b[0m\n\u001b[0;32m      2\u001b[0m     \u001b[0mfastas\u001b[0m \u001b[1;33m=\u001b[0m \u001b[1;33m{\u001b[0m\u001b[1;33m}\u001b[0m\u001b[1;33m\u001b[0m\u001b[1;33m\u001b[0m\u001b[0m\n\u001b[0;32m      3\u001b[0m \u001b[1;33m\u001b[0m\u001b[0m\n\u001b[1;32m----> 4\u001b[1;33m     \u001b[0mfile\u001b[0m \u001b[1;33m=\u001b[0m \u001b[0mopen\u001b[0m\u001b[1;33m(\u001b[0m\u001b[0mprotein_file\u001b[0m\u001b[1;33m)\u001b[0m\u001b[1;33m\u001b[0m\u001b[1;33m\u001b[0m\u001b[0m\n\u001b[0m\u001b[0;32m      5\u001b[0m \u001b[1;33m\u001b[0m\u001b[0m\n\u001b[0;32m      6\u001b[0m     \u001b[1;32mfor\u001b[0m \u001b[0mline\u001b[0m \u001b[1;32min\u001b[0m \u001b[0mfile\u001b[0m\u001b[1;33m:\u001b[0m\u001b[1;33m\u001b[0m\u001b[1;33m\u001b[0m\u001b[0m\n",
      "\u001b[1;31mFileNotFoundError\u001b[0m: [Errno 2] No such file or directory: 'BetaCasein.txt'"
     ]
    }
   ],
   "source": [
    "read_multiFasta(\"BetaCasein.txt\")"
   ]
  },
  {
   "cell_type": "code",
   "execution_count": 7,
   "metadata": {
    "scrolled": true
   },
   "outputs": [
    {
     "ename": "NameError",
     "evalue": "name 'read_multiFasta' is not defined",
     "output_type": "error",
     "traceback": [
      "\u001b[1;31m---------------------------------------------------------------------------\u001b[0m",
      "\u001b[1;31mNameError\u001b[0m                                 Traceback (most recent call last)",
      "\u001b[1;32m<ipython-input-7-a9e331d348fd>\u001b[0m in \u001b[0;36m<module>\u001b[1;34m\u001b[0m\n\u001b[1;32m----> 1\u001b[1;33m \u001b[0mread_multiFasta\u001b[0m\u001b[1;33m(\u001b[0m\u001b[1;34m\"PyrimidinePurineNucleosidePhosphorylase.txt\"\u001b[0m\u001b[1;33m)\u001b[0m\u001b[1;33m\u001b[0m\u001b[1;33m\u001b[0m\u001b[0m\n\u001b[0m",
      "\u001b[1;31mNameError\u001b[0m: name 'read_multiFasta' is not defined"
     ]
    }
   ],
   "source": [
    "read_multiFasta(\"PyrimidinePurineNucleosidePhosphorylase.txt\")"
   ]
  },
  {
   "cell_type": "markdown",
   "metadata": {},
   "source": [
    "\n",
    "\n",
    "\n"
   ]
  },
  {
   "cell_type": "markdown",
   "metadata": {},
   "source": [
    "### ClustalW2\n",
    "\n",
    "In order to create the phylogenetic trees, we are going to use ClustalW2. ClustalW2 is the command-line interface of Clustal, a computer program for performing multiple sequence alignments and creating phylogenetic trees.\n",
    "\n",
    "In our project, we will implement *clustal_wrapper*, a class which will use biopython functions of Alingment tools section, and whose purpose is to be an adapter for ClustalW2. \n",
    "\n",
    "#### Download and install of ClustalW2\n",
    "\n",
    "First, we will show the steps for downloading ClustalW2:\n",
    "\n",
    "1. Enter in Clustal W official website in: <a href=\"http://www.clustal.org/clustal2/\">\"http://www.clustal.org/clustal2/\">  \n",
    "   "
   ]
  },
  {
   "cell_type": "markdown",
   "metadata": {},
   "source": [
    "Then download cluatalw suited for your computer."
   ]
  },
  {
   "cell_type": "markdown",
   "metadata": {},
   "source": [
    "<img src=\"DescargarEjecutable.png\">"
   ]
  },
  {
   "cell_type": "markdown",
   "metadata": {},
   "source": [
    "2. Use the setup file to install ClustalW2. Pay attention to the installation location.    \n",
    "    "
   ]
  },
  {
   "cell_type": "markdown",
   "metadata": {},
   "source": [
    "<img src= \"InstalaciónClustalW2.jpg\">"
   ]
  },
  {
   "cell_type": "markdown",
   "metadata": {},
   "source": [
    "3. Now, we will train the ClustarW2 application with 'opuntia.fasta', a fasta file with some DNA sequences."
   ]
  },
  {
   "cell_type": "markdown",
   "metadata": {},
   "source": [
    "<img src= \"CargaOpuntiaFileClustalW2.png\">"
   ]
  },
  {
   "cell_type": "markdown",
   "metadata": {},
   "source": [
    "After choosing 'Do complete multiple alignments now Slow/Accurate', the application generates two files: opuntia.aln, with the alignment, and opuntia.dnd, with the phylogenetic tree. We will save this last one as *correctTree.dnd*, for using it to test our python project results later."
   ]
  },
  {
   "cell_type": "markdown",
   "metadata": {},
   "source": [
    "#### Adapter class\n",
    "\n",
    "##### Implementation\n",
    "\n",
    "We want to use ClustalW2 from our python project to create phylogenetic trees. For this purpose, we use biopython functions in the class ClusterWrapper. \n",
    "\n",
    "When we initialize *clustal_wrapper*, the only input parameter is the path where the file clustal.exe is. The function asks for it because we use it, with *os* package functions, instead of modifying the path. Then, the class has the function *generate_aligment_tree*, which needs the fasta file with the sequence and uses ClustalW2 to create the alignment and the phylogenetic tree. Subsequently, we will use this tree to show some of the functions included in the 'Phylo' section in BioPython.\n"
   ]
  },
  {
   "cell_type": "code",
   "execution_count": 3,
   "metadata": {},
   "outputs": [],
   "source": [
    "import os\n",
    "from Bio.Align.Applications import ClustalwCommandline\n",
    "\n",
    "\n",
    "class ClustalWrapper:\n",
    "    def __init__(self, clustal_exe_path):\n",
    "        self.clustalw_exe = clustal_exe_path\n",
    "\n",
    "    def generate_alignment_tree(self, fasta_file):\n",
    "        try:\n",
    "            clustalw_cline = ClustalwCommandline(self.clustalw_exe, infile=fasta_file, seqnos=\"ON\")\n",
    "            assert os.path.isfile(self.clustalw_exe), \"Clustal W executable missing\"\n",
    "            stdout, stderr = clustalw_cline()\n",
    "        except:\n",
    "            raise Exception(\"ClustalW2 did not work\")\n"
   ]
  },
  {
   "cell_type": "markdown",
   "metadata": {},
   "source": [
    "##### Unit test\n",
    "\n",
    "Although our class does not create the files itself, it makes use of ClustalW2 for generating the phylogenetic trees. Therefore, we have to check if the phylogenetic tree's file (file with dnd extension) is correct. \n",
    "\n",
    "For that purpose, we create a unit test. We will use the phylogenetic tree generated from the ClustalW2 command-line using *opuntia.fasta's* file, called *correctTree.dnd*, and *clustal_wrapper* will generate another phylogenetic tree, *opuntia.dnd*, from the same multisequence file. Both trees should be equals. \n",
    "\n",
    "Python has a package, **filecmp**, that allows us to compare two files using its function *cmp* and returning a boolean value which indicates if the two files are equals.\n"
   ]
  },
  {
   "cell_type": "code",
   "execution_count": null,
   "metadata": {},
   "outputs": [],
   "source": [
    "import unittest\n",
    "from phylo.clustal_wrapper import ClustalWrapper\n",
    "import filecmp\n",
    "\n",
    "class TestClustalWrapper(unittest.TestCase):\n",
    "\n",
    "    def test_dndfile(self):\n",
    "        clustalWPath = \"D:\\clustalForBiopython\\CLustalW2.exe\"\n",
    "        clustalWrapper = ClustalWrapper(clustalWPath)\n",
    "        clustalWrapper.generate_alignment_tree('..\\\\phylo\\\\proteins\\\\opuntia.fasta')\n",
    "        isEqual = filecmp.cmp('..\\\\phylo\\\\test\\\\testFiles\\\\correctOpuntia.dnd', '..\\\\phylo\\\\proteins\\\\opuntia.dnd', shallow= False)\n",
    "        self.assertTrue(isEqual)\n",
    "\n",
    "if __name__ == '__main__':\n",
    "    unittest.main()\n"
   ]
  }
 ],
 "metadata": {
  "kernelspec": {
   "display_name": "Python 3",
   "language": "python",
   "name": "python3"
  },
  "language_info": {
   "codemirror_mode": {
    "name": "ipython",
    "version": 3
   },
   "file_extension": ".py",
   "mimetype": "text/x-python",
   "name": "python",
   "nbconvert_exporter": "python",
   "pygments_lexer": "ipython3",
   "version": "3.8.3"
  }
 },
 "nbformat": 4,
 "nbformat_minor": 4
}
